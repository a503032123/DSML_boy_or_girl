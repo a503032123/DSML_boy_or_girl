{
  "nbformat": 4,
  "nbformat_minor": 0,
  "metadata": {
    "colab": {
      "name": "[A2]104403041_v1.ipynb",
      "version": "0.3.2",
      "provenance": [],
      "include_colab_link": true
    },
    "kernelspec": {
      "name": "python3",
      "display_name": "Python 3"
    }
  },
  "cells": [
    {
      "cell_type": "markdown",
      "metadata": {
        "id": "view-in-github",
        "colab_type": "text"
      },
      "source": [
        "<a href=\"https://colab.research.google.com/github/a503032123/DSML_boy_or_girl/blob/master/%5BA2%5D104403041_v1.ipynb\" target=\"_parent\"><img src=\"https://colab.research.google.com/assets/colab-badge.svg\" alt=\"Open In Colab\"/></a>"
      ]
    },
    {
      "cell_type": "code",
      "metadata": {
        "id": "m3Xd_7l6qqrX",
        "colab_type": "code",
        "outputId": "02d9094e-4f2f-4199-b6ba-a4da16f1166e",
        "colab": {
          "resources": {
            "http://localhost:8080/nbextensions/google.colab/files.js": {
              "data": "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",
              "ok": true,
              "headers": [
                [
                  "content-type",
                  "application/javascript"
                ]
              ],
              "status": 200,
              "status_text": ""
            }
          },
          "base_uri": "https://localhost:8080/",
          "height": 133
        }
      },
      "source": [
        "import pandas as pd\n",
        "from google.colab import files\n",
        "uploaded = files.upload()\n",
        "uploaded2 = files.upload()"
      ],
      "execution_count": 0,
      "outputs": [
        {
          "output_type": "display_data",
          "data": {
            "text/html": [
              "\n",
              "     <input type=\"file\" id=\"files-54b23386-2916-48e6-ad19-9a46eca8fa80\" name=\"files[]\" multiple disabled />\n",
              "     <output id=\"result-54b23386-2916-48e6-ad19-9a46eca8fa80\">\n",
              "      Upload widget is only available when the cell has been executed in the\n",
              "      current browser session. Please rerun this cell to enable.\n",
              "      </output>\n",
              "      <script src=\"/nbextensions/google.colab/files.js\"></script> "
            ],
            "text/plain": [
              "<IPython.core.display.HTML object>"
            ]
          },
          "metadata": {
            "tags": []
          }
        },
        {
          "output_type": "stream",
          "text": [
            "Saving QuickML_data_utf8a.csv to QuickML_data_utf8a.csv\n"
          ],
          "name": "stdout"
        },
        {
          "output_type": "display_data",
          "data": {
            "text/html": [
              "\n",
              "     <input type=\"file\" id=\"files-4ab9714a-af70-4e99-860b-068859ac563a\" name=\"files[]\" multiple disabled />\n",
              "     <output id=\"result-4ab9714a-af70-4e99-860b-068859ac563a\">\n",
              "      Upload widget is only available when the cell has been executed in the\n",
              "      current browser session. Please rerun this cell to enable.\n",
              "      </output>\n",
              "      <script src=\"/nbextensions/google.colab/files.js\"></script> "
            ],
            "text/plain": [
              "<IPython.core.display.HTML object>"
            ]
          },
          "metadata": {
            "tags": []
          }
        },
        {
          "output_type": "stream",
          "text": [
            "Saving 1072_boy_or_girl.csv to 1072_boy_or_girl.csv\n"
          ],
          "name": "stdout"
        }
      ]
    },
    {
      "cell_type": "markdown",
      "metadata": {
        "id": "pql43aWUjZSY",
        "colab_type": "text"
      },
      "source": [
        "將資料從電腦內導入\n",
        "df 導入過去的(Quick),df2導入本次的Test(1072)"
      ]
    },
    {
      "cell_type": "code",
      "metadata": {
        "id": "C171jozXzJSG",
        "colab_type": "code",
        "colab": {}
      },
      "source": [
        "import io\n",
        "\n",
        "df = pd.read_csv(io.BytesIO(uploaded['QuickML_data_utf8a.csv']))  #導入數據集（叫做df）\n",
        "df2= pd.read_csv(io.BytesIO(uploaded2['1072_boy_or_girl.csv']))\n",
        "# Dataset is now stored in a Pandas Dataframe"
      ],
      "execution_count": 0,
      "outputs": []
    },
    {
      "cell_type": "code",
      "metadata": {
        "id": "CHn6Z8j5zrLk",
        "colab_type": "code",
        "colab": {}
      },
      "source": [
        "from sklearn.tree import DecisionTreeClassifier, export_graphviz\n",
        "from sklearn.externals.six import StringIO\n",
        "from IPython.display import Image, display\n",
        "import pydotplus\n",
        "\n",
        "def jupyter_graphviz(m, **kwargs):\n",
        "    dot_data = StringIO()\n",
        "    export_graphviz(m, dot_data, **kwargs) #導出決策樹的設定\n",
        "    graph = pydotplus.graph_from_dot_data(dot_data.getvalue())#圖形設定\n",
        "    display(Image(graph.create_png())) #顯示圖形"
      ],
      "execution_count": 0,
      "outputs": []
    },
    {
      "cell_type": "markdown",
      "metadata": {
        "id": "iFkFDzikLsxu",
        "colab_type": "text"
      },
      "source": [
        "****訓練用資料集前處理****\n",
        "\n"
      ]
    },
    {
      "cell_type": "code",
      "metadata": {
        "id": "1EvPAdMQJu-5",
        "colab_type": "code",
        "colab": {}
      },
      "source": [
        "df['phone_os'] = df['phone_os'].str.lower()\n",
        "# removing leading and trailing whitespaces\n",
        "df['phone_os'] = df['phone_os'].str.strip()\n",
        "df=df.drop(columns=['id', 'timestamp','self_intro'])\n",
        "coded_star_signs = {'水瓶座':1, '雙魚座':2, '牡羊座':3, '金牛座':4, '雙子座':5, '巨蟹座':6, '獅子座':7, '處女座':8, '天秤座':9, '天蠍座':10, '射手座':11, '摩羯座':12}\n",
        "coded_phone_os = {'apple':1, 'android':2, 'windows phone':3, 'johncena':4}\n",
        "coded_gender = {2:-1} #girls as -1\n",
        "\n",
        "coded_df = df.replace({\"star_sign\": coded_star_signs})\n",
        "coded_df = coded_df.replace({\"phone_os\": coded_phone_os})\n",
        "coded_df = coded_df.replace({\"gender\": coded_gender})\n",
        "\n",
        "coded_df[0:10]"
      ],
      "execution_count": 0,
      "outputs": []
    },
    {
      "cell_type": "markdown",
      "metadata": {
        "id": "qjIp6yfpjyG0",
        "colab_type": "text"
      },
      "source": [
        "資料型態的轉換(星座轉換1234...)以及捨去(drop)不用的資料"
      ]
    },
    {
      "cell_type": "code",
      "metadata": {
        "id": "n27z6uNDM-Gr",
        "colab_type": "code",
        "colab": {}
      },
      "source": [
        "#check which columns have NaN in them\n",
        "coded_df.isnull().any()\n",
        "#show rows where yt field is NaN\n",
        "coded_df[coded_df['yt'].isnull()]\n",
        "#show rows where iq field is NaN\n",
        "coded_df[coded_df['iq'].isnull()]\n",
        "# lets clean up the codes\n",
        "# ref: https://www.python-course.eu/lambda.php, http://book.pythontips.com/en/latest/lambdas.html\n",
        "nan_rows = lambda df: df[df.isnull().any(axis=1)]\n",
        "nan_rows(coded_df)\n",
        "cleaned_df = coded_df.dropna()\n"
      ],
      "execution_count": 0,
      "outputs": []
    },
    {
      "cell_type": "code",
      "metadata": {
        "id": "E76uhj-HNGg1",
        "colab_type": "code",
        "colab": {}
      },
      "source": [
        "cleaned_df = cleaned_df[(cleaned_df['height']<200) & (cleaned_df['height']>140) & (cleaned_df['weight']<200) & (cleaned_df['height']>100) & (cleaned_df['fb_friends']<=5000)]"
      ],
      "execution_count": 0,
      "outputs": []
    },
    {
      "cell_type": "code",
      "metadata": {
        "id": "1s-Bdql1NJ4m",
        "colab_type": "code",
        "colab": {}
      },
      "source": [
        "cleaned_df.describe()\n",
        "cc=cleaned_df"
      ],
      "execution_count": 0,
      "outputs": []
    },
    {
      "cell_type": "markdown",
      "metadata": {
        "id": "72jcmt-8j_Ov",
        "colab_type": "text"
      },
      "source": [
        "將null轉換以及將極端捨去"
      ]
    },
    {
      "cell_type": "markdown",
      "metadata": {
        "id": "eaF6Ap0DMJ3-",
        "colab_type": "text"
      },
      "source": [
        "**TEST資料集處理**"
      ]
    },
    {
      "cell_type": "code",
      "metadata": {
        "id": "Kzh5QRXL9IFR",
        "colab_type": "code",
        "outputId": "503fcfe1-6356-4753-86bc-00d3eccea8aa",
        "colab": {
          "base_uri": "https://localhost:8080/",
          "height": 353
        }
      },
      "source": [
        "df2['phone_os'] = df2['phone_os'].str.lower()\n",
        "# removing leading and trailing whitespaces\n",
        "df2['phone_os'] = df2['phone_os'].str.strip()\n",
        "df2=df2.drop(columns=['id','timestamp','self_intro'])\n",
        "coded_star_signs = {'水瓶座':1, '雙魚座':2, '牡羊座':3, '金牛座':4, '雙子座':5, '巨蟹座':6, '獅子座':7, '處女座':8, '天秤座':9, '天蠍座':10, '射手座':11, '摩羯座':12}\n",
        "coded_phone_os = {'apple':1, 'android':2, 'windows phone':3, 'johncena':4}\n",
        "coded_gender = {2:-1} #girls as -1\n",
        "\n",
        "coded_df2 = df2.replace({\"star_sign\": coded_star_signs})\n",
        "coded_df2 = coded_df2.replace({\"phone_os\": coded_phone_os})\n",
        "coded_df2 = coded_df2.replace({\"gender\": coded_gender})\n",
        "\n",
        "coded_df2[0:10]"
      ],
      "execution_count": 0,
      "outputs": [
        {
          "output_type": "execute_result",
          "data": {
            "text/html": [
              "<div>\n",
              "<style scoped>\n",
              "    .dataframe tbody tr th:only-of-type {\n",
              "        vertical-align: middle;\n",
              "    }\n",
              "\n",
              "    .dataframe tbody tr th {\n",
              "        vertical-align: top;\n",
              "    }\n",
              "\n",
              "    .dataframe thead th {\n",
              "        text-align: right;\n",
              "    }\n",
              "</style>\n",
              "<table border=\"1\" class=\"dataframe\">\n",
              "  <thead>\n",
              "    <tr style=\"text-align: right;\">\n",
              "      <th></th>\n",
              "      <th>gender</th>\n",
              "      <th>star_sign</th>\n",
              "      <th>phone_os</th>\n",
              "      <th>height</th>\n",
              "      <th>weight</th>\n",
              "      <th>sleepiness</th>\n",
              "      <th>iq</th>\n",
              "      <th>fb_friends</th>\n",
              "      <th>yt</th>\n",
              "    </tr>\n",
              "  </thead>\n",
              "  <tbody>\n",
              "    <tr>\n",
              "      <th>0</th>\n",
              "      <td>1</td>\n",
              "      <td>8</td>\n",
              "      <td>2</td>\n",
              "      <td>172</td>\n",
              "      <td>60</td>\n",
              "      <td>5</td>\n",
              "      <td>112</td>\n",
              "      <td>350</td>\n",
              "      <td>3.00</td>\n",
              "    </tr>\n",
              "    <tr>\n",
              "      <th>1</th>\n",
              "      <td>1</td>\n",
              "      <td>4</td>\n",
              "      <td>2</td>\n",
              "      <td>180</td>\n",
              "      <td>75</td>\n",
              "      <td>1</td>\n",
              "      <td>180</td>\n",
              "      <td>30</td>\n",
              "      <td>30.00</td>\n",
              "    </tr>\n",
              "    <tr>\n",
              "      <th>2</th>\n",
              "      <td>1</td>\n",
              "      <td>3</td>\n",
              "      <td>2</td>\n",
              "      <td>167</td>\n",
              "      <td>79</td>\n",
              "      <td>4</td>\n",
              "      <td>123</td>\n",
              "      <td>457</td>\n",
              "      <td>1.00</td>\n",
              "    </tr>\n",
              "    <tr>\n",
              "      <th>3</th>\n",
              "      <td>1</td>\n",
              "      <td>3</td>\n",
              "      <td>2</td>\n",
              "      <td>52</td>\n",
              "      <td>29</td>\n",
              "      <td>1</td>\n",
              "      <td>51</td>\n",
              "      <td>4</td>\n",
              "      <td>970.00</td>\n",
              "    </tr>\n",
              "    <tr>\n",
              "      <th>4</th>\n",
              "      <td>1</td>\n",
              "      <td>7</td>\n",
              "      <td>1</td>\n",
              "      <td>174</td>\n",
              "      <td>70</td>\n",
              "      <td>4</td>\n",
              "      <td>128</td>\n",
              "      <td>539</td>\n",
              "      <td>110.00</td>\n",
              "    </tr>\n",
              "    <tr>\n",
              "      <th>5</th>\n",
              "      <td>1</td>\n",
              "      <td>12</td>\n",
              "      <td>1</td>\n",
              "      <td>174</td>\n",
              "      <td>888</td>\n",
              "      <td>1</td>\n",
              "      <td>50</td>\n",
              "      <td>1</td>\n",
              "      <td>40.00</td>\n",
              "    </tr>\n",
              "    <tr>\n",
              "      <th>6</th>\n",
              "      <td>-1</td>\n",
              "      <td>5</td>\n",
              "      <td>1</td>\n",
              "      <td>162</td>\n",
              "      <td>45</td>\n",
              "      <td>3</td>\n",
              "      <td>100</td>\n",
              "      <td>556</td>\n",
              "      <td>0.90</td>\n",
              "    </tr>\n",
              "    <tr>\n",
              "      <th>7</th>\n",
              "      <td>-1</td>\n",
              "      <td>2</td>\n",
              "      <td>1</td>\n",
              "      <td>155</td>\n",
              "      <td>53</td>\n",
              "      <td>4</td>\n",
              "      <td>120</td>\n",
              "      <td>900</td>\n",
              "      <td>1.60</td>\n",
              "    </tr>\n",
              "    <tr>\n",
              "      <th>8</th>\n",
              "      <td>1</td>\n",
              "      <td>4</td>\n",
              "      <td>1</td>\n",
              "      <td>173</td>\n",
              "      <td>62</td>\n",
              "      <td>5</td>\n",
              "      <td>123</td>\n",
              "      <td>600</td>\n",
              "      <td>35.20</td>\n",
              "    </tr>\n",
              "    <tr>\n",
              "      <th>9</th>\n",
              "      <td>-1</td>\n",
              "      <td>10</td>\n",
              "      <td>2</td>\n",
              "      <td>155</td>\n",
              "      <td>49</td>\n",
              "      <td>2</td>\n",
              "      <td>110</td>\n",
              "      <td>555</td>\n",
              "      <td>9.93</td>\n",
              "    </tr>\n",
              "  </tbody>\n",
              "</table>\n",
              "</div>"
            ],
            "text/plain": [
              "   gender  star_sign  phone_os  height  weight  sleepiness   iq  fb_friends  \\\n",
              "0       1          8         2     172      60           5  112         350   \n",
              "1       1          4         2     180      75           1  180          30   \n",
              "2       1          3         2     167      79           4  123         457   \n",
              "3       1          3         2      52      29           1   51           4   \n",
              "4       1          7         1     174      70           4  128         539   \n",
              "5       1         12         1     174     888           1   50           1   \n",
              "6      -1          5         1     162      45           3  100         556   \n",
              "7      -1          2         1     155      53           4  120         900   \n",
              "8       1          4         1     173      62           5  123         600   \n",
              "9      -1         10         2     155      49           2  110         555   \n",
              "\n",
              "       yt  \n",
              "0    3.00  \n",
              "1   30.00  \n",
              "2    1.00  \n",
              "3  970.00  \n",
              "4  110.00  \n",
              "5   40.00  \n",
              "6    0.90  \n",
              "7    1.60  \n",
              "8   35.20  \n",
              "9    9.93  "
            ]
          },
          "metadata": {
            "tags": []
          },
          "execution_count": 9
        }
      ]
    },
    {
      "cell_type": "code",
      "metadata": {
        "id": "J2FsNBuxWopM",
        "colab_type": "code",
        "colab": {}
      },
      "source": [
        "#check which columns have NaN in them\n",
        "coded_df2.isnull().any()\n",
        "#show rows where yt field is NaN\n",
        "coded_df2[coded_df2['yt'].isnull()]\n",
        "#show rows where iq field is NaN\n",
        "coded_df2[coded_df2['iq'].isnull()]\n",
        "# lets clean up the codes\n",
        "# ref: https://www.python-course.eu/lambda.php, http://book.pythontips.com/en/latest/lambdas.html\n",
        "nan_rows = lambda df2: df2[df2.isnull().any(axis=1)]\n",
        "nan_rows(coded_df2)\n",
        "cleaned_df2 = coded_df2.dropna()"
      ],
      "execution_count": 0,
      "outputs": []
    },
    {
      "cell_type": "markdown",
      "metadata": {
        "id": "dym5yx4rkHCh",
        "colab_type": "text"
      },
      "source": [
        "Test資料的前處理，方法同上"
      ]
    },
    {
      "cell_type": "code",
      "metadata": {
        "id": "sC7YovyMW8v6",
        "colab_type": "code",
        "colab": {}
      },
      "source": [
        "y_test107 = cleaned_df2.pop('gender') # this is our target label\n",
        "X_test107 = cleaned_df2 # this is our 'data'\n"
      ],
      "execution_count": 0,
      "outputs": []
    },
    {
      "cell_type": "markdown",
      "metadata": {
        "id": "Kp-jVwvekoBX",
        "colab_type": "text"
      },
      "source": [
        "將TEST切個，把最後判斷的label給拿出來"
      ]
    },
    {
      "cell_type": "code",
      "metadata": {
        "id": "amM_9gcN3KqN",
        "colab_type": "code",
        "colab": {}
      },
      "source": [
        "# importing scikit-learn library to help us split the dataset into training and validation sets\n",
        "from sklearn.model_selection import train_test_split\n",
        "# x2,y2用來進行resampling\n",
        "y = cleaned_df.pop('gender') # this is our target label\n",
        "X = cleaned_df # this is our 'data'\n",
        "y2 = y\n",
        "X2 =X\n"
      ],
      "execution_count": 0,
      "outputs": []
    },
    {
      "cell_type": "code",
      "metadata": {
        "id": "MTnEf9-83C5W",
        "colab_type": "code",
        "colab": {}
      },
      "source": [
        "X_train, X_test, y_train, y_test = train_test_split(X, y, test_size=0.25, random_state=42)"
      ],
      "execution_count": 0,
      "outputs": []
    },
    {
      "cell_type": "code",
      "metadata": {
        "id": "Ipxy24zOA88O",
        "colab_type": "code",
        "colab": {}
      },
      "source": [
        "X2_train, X2_test, y2_train, y2_test = train_test_split(X2, y2, test_size=0.25, random_state=42)"
      ],
      "execution_count": 0,
      "outputs": []
    },
    {
      "cell_type": "code",
      "metadata": {
        "id": "aNMSAz8NKVXJ",
        "colab_type": "code",
        "colab": {}
      },
      "source": [
        "X3_train=X_train\n",
        "X3_test=X_test\n",
        "y3_train= y_train\n",
        "y3_test= y_test"
      ],
      "execution_count": 0,
      "outputs": []
    },
    {
      "cell_type": "markdown",
      "metadata": {
        "id": "21zbxb81kgxp",
        "colab_type": "text"
      },
      "source": [
        "按照比例來切割資料，(其實可不用切割，因為有額外的TEST資料)\n",
        "x1做initial不做額外處理\n",
        "x2做SMOTE\n",
        "x3做random的 oversample\n"
      ]
    },
    {
      "cell_type": "code",
      "metadata": {
        "id": "ww9Dp72UBozc",
        "colab_type": "code",
        "colab": {}
      },
      "source": [
        "#SMOTE\n",
        "from imblearn.over_sampling import SMOTE\n",
        "\n",
        "\n",
        "# setting up testing and training sets\n",
        "\n",
        "\n",
        "sm = SMOTE(random_state=42, )\n",
        "X2_train, y2_train = sm.fit_resample(X2_train, y2_train)"
      ],
      "execution_count": 0,
      "outputs": []
    },
    {
      "cell_type": "markdown",
      "metadata": {
        "id": "U7Df36aMJ1bj",
        "colab_type": "text"
      },
      "source": [
        "**resample**(oversample)\n"
      ]
    },
    {
      "cell_type": "code",
      "metadata": {
        "id": "7aOVsMYLKFpN",
        "colab_type": "code",
        "colab": {}
      },
      "source": [
        "from sklearn.utils import resample\n",
        "\n",
        "# setting up testing and training sets\n",
        "\n",
        "\n",
        "# concatenate our training data back together\n",
        "X3 = pd.concat([X3_train, y3_train], axis=1)\n",
        "\n",
        "# separate minority and majority classes\n",
        "male = X3[X3.gender==1]\n",
        "female = X3[X3.gender==-1]\n",
        "\n",
        "# upsample minority\n",
        "female_upsampled = resample(female,\n",
        "                          replace=True, # sample with replacement\n",
        "                          n_samples=len(male), # match number in majority class\n",
        "random_state=42) # reproducible results\n",
        "upsample = pd.concat([male, female_upsampled])"
      ],
      "execution_count": 0,
      "outputs": []
    },
    {
      "cell_type": "markdown",
      "metadata": {
        "id": "yFfq7Dsmk2Sx",
        "colab_type": "text"
      },
      "source": [
        "oversample的方法 先把XY兩資料合併  按特徵切割 然後再續新增較少的屬性"
      ]
    },
    {
      "cell_type": "code",
      "metadata": {
        "id": "dSIz6xulLOTl",
        "colab_type": "code",
        "colab": {}
      },
      "source": [
        "y3=upsample.pop('gender')\n",
        "X3=upsample\n",
        "X3_train, X3_test, y3_train, y3_test = train_test_split(X3, y3, test_size=0.25, random_state=42)"
      ],
      "execution_count": 0,
      "outputs": []
    },
    {
      "cell_type": "code",
      "metadata": {
        "id": "REaDivri--i3",
        "colab_type": "code",
        "colab": {}
      },
      "source": [
        "#建立decision tree相關（圖形,model)\n",
        "import sklearn.datasets as datasets\n",
        "\n",
        "dtree = DecisionTreeClassifier(random_state=42)\n",
        "#DT2用來處理resampling(SMOTE)後的dataset\n",
        "dtree2 =DecisionTreeClassifier(random_state=42)\n",
        "dtree.fit(X_train, y_train)\n",
        "dtree2.fit(X2_train, y2_train)\n",
        "dtree3 =DecisionTreeClassifier(random_state=42)\n",
        "dtree3.fit(X3_train, y3_train)\n",
        "#jupyter_graphviz(dtree, filled=True, rounded=True, special_characters=True)#"
      ],
      "execution_count": 0,
      "outputs": []
    },
    {
      "cell_type": "code",
      "metadata": {
        "id": "-cnab13_JsOp",
        "colab_type": "code",
        "colab": {}
      },
      "source": [
        "#驗證decision tree\n",
        "predicted_ans = dtree.predict(X_test107)\n",
        "predicted_ans2 = dtree2.predict(X_test107)\n",
        "predicted_ans3 = dtree3.predict(X_test107)"
      ],
      "execution_count": 0,
      "outputs": []
    },
    {
      "cell_type": "code",
      "metadata": {
        "id": "5PHqITkwKDcJ",
        "colab_type": "code",
        "colab": {}
      },
      "source": [
        ""
      ],
      "execution_count": 0,
      "outputs": []
    },
    {
      "cell_type": "markdown",
      "metadata": {
        "id": "1BPyRCt-JoMH",
        "colab_type": "text"
      },
      "source": [
        "# Decisiontree直接執行"
      ]
    },
    {
      "cell_type": "code",
      "metadata": {
        "id": "TFc2NPsG5O0M",
        "colab_type": "code",
        "outputId": "28530280-b852-4888-f1d2-12076befeed4",
        "colab": {
          "base_uri": "https://localhost:8080/",
          "height": 565
        }
      },
      "source": [
        "#結果圖像化\n",
        "from sklearn.metrics import average_precision_score\n",
        "average_precision = average_precision_score(y_test107, predicted_ans)\n",
        "\n",
        "print('Average precision-recall score: {0:0.2f}'.format(\n",
        "      average_precision))\n",
        "\n",
        "from sklearn.metrics import precision_recall_curve\n",
        "import matplotlib.pyplot as plt\n",
        "\n",
        "precision, recall, _ = precision_recall_curve(y_test107, predicted_ans)\n",
        "\n",
        "plt.step(recall, precision, color='b', alpha=0.2,\n",
        "         where='post')\n",
        "plt.fill_between(recall, precision, step='post', alpha=0.2,\n",
        "                 color='b')\n",
        "\n",
        "plt.xlabel('Recall')\n",
        "plt.ylabel('Precision')\n",
        "plt.ylim([0.0, 1.05])\n",
        "plt.xlim([0.0, 1.0])\n",
        "plt.title('2-class Precision-Recall curve: AP={0:0.2f}'.format(\n",
        "          average_precision))\n",
        "plt.show()\n",
        "#===================================================================\n",
        "from sklearn import metrics\n",
        "#print(metrics.precision_score(y_test, predicted_ans, average='micro'))\n",
        "#print(metrics.recall_score(y_test, predicted_ans, average='micro'))\n",
        "\n",
        "labels = [1,-1]\n",
        "targets_name = ['Boy','Girl']\n",
        "print(metrics.classification_report(y_test107, predicted_ans,labels=labels,target_names = targets_name))"
      ],
      "execution_count": 0,
      "outputs": [
        {
          "output_type": "stream",
          "text": [
            "Average precision-recall score: 0.77\n"
          ],
          "name": "stdout"
        },
        {
          "output_type": "display_data",
          "data": {
            "image/png": "[encoded data removed]",
            "text/plain": [
              "<Figure size 576x396 with 1 Axes>"
            ]
          },
          "metadata": {
            "tags": []
          }
        },
        {
          "output_type": "stream",
          "text": [
            "              precision    recall  f1-score   support\n",
            "\n",
            "         Boy       0.79      0.88      0.83        17\n",
            "        Girl       0.78      0.64      0.70        11\n",
            "\n",
            "   micro avg       0.79      0.79      0.79        28\n",
            "   macro avg       0.78      0.76      0.77        28\n",
            "weighted avg       0.78      0.79      0.78        28\n",
            "\n"
          ],
          "name": "stdout"
        }
      ]
    },
    {
      "cell_type": "markdown",
      "metadata": {
        "id": "OOtQg5jOD3CS",
        "colab_type": "text"
      },
      "source": [
        "# SOMTE後的資料"
      ]
    },
    {
      "cell_type": "code",
      "metadata": {
        "id": "tmfxLrAf8IOi",
        "colab_type": "code",
        "outputId": "e4dc08bc-fd6e-4e3d-8531-a4906597dd9e",
        "colab": {
          "base_uri": "https://localhost:8080/",
          "height": 565
        }
      },
      "source": [
        "#結果圖像化\n",
        "from sklearn.metrics import average_precision_score\n",
        "average_precision = average_precision_score(y_test107, predicted_ans2)\n",
        "\n",
        "print('Average precision-recall2 score: {0:0.2f}'.format(\n",
        "      average_precision))\n",
        "\n",
        "from sklearn.metrics import precision_recall_curve\n",
        "import matplotlib.pyplot as plt\n",
        "\n",
        "precision, recall, _ = precision_recall_curve(y_test107, predicted_ans2)\n",
        "\n",
        "plt.step(recall, precision, color='b', alpha=0.2,\n",
        "         where='post')\n",
        "plt.fill_between(recall, precision, step='post', alpha=0.2,\n",
        "                 color='b')\n",
        "\n",
        "plt.xlabel('Recall')\n",
        "plt.ylabel('Precision')\n",
        "plt.ylim([0.0, 1.05])\n",
        "plt.xlim([0.0, 1.0])\n",
        "plt.title('2-class Precision-Recall curve: AP={0:0.2f}'.format(\n",
        "          average_precision))\n",
        "plt.show()\n",
        "from sklearn import metrics\n",
        "#print(metrics.precision_score(y_test, predicted_ans, average='micro'))\n",
        "#print(metrics.recall_score(y_test, predicted_ans, average='micro'))\n",
        "\n",
        "labels = [1,-1]\n",
        "targets_name = ['Boy','Girl']\n",
        "print(metrics.classification_report(y_test107, predicted_ans2,labels=labels,target_names = targets_name))"
      ],
      "execution_count": 0,
      "outputs": [
        {
          "output_type": "stream",
          "text": [
            "Average precision-recall2 score: 0.79\n"
          ],
          "name": "stdout"
        },
        {
          "output_type": "display_data",
          "data": {
            "image/png": "[encoded data removed]",
            "text/plain": [
              "<Figure size 576x396 with 1 Axes>"
            ]
          },
          "metadata": {
            "tags": []
          }
        },
        {
          "output_type": "stream",
          "text": [
            "              precision    recall  f1-score   support\n",
            "\n",
            "         Boy       0.80      0.94      0.86        17\n",
            "        Girl       0.88      0.64      0.74        11\n",
            "\n",
            "   micro avg       0.82      0.82      0.82        28\n",
            "   macro avg       0.84      0.79      0.80        28\n",
            "weighted avg       0.83      0.82      0.81        28\n",
            "\n"
          ],
          "name": "stdout"
        }
      ]
    },
    {
      "cell_type": "markdown",
      "metadata": {
        "id": "ayQn7JFyL1fv",
        "colab_type": "text"
      },
      "source": [
        "# oversampling"
      ]
    },
    {
      "cell_type": "code",
      "metadata": {
        "id": "Bvq132zpL4Lv",
        "colab_type": "code",
        "outputId": "7b459f3a-4a2a-49d8-ff9b-f8ff8c75f7f8",
        "colab": {
          "base_uri": "https://localhost:8080/",
          "height": 565
        }
      },
      "source": [
        "#結果圖像化\n",
        "from sklearn.metrics import average_precision_score\n",
        "average_precision = average_precision_score(y_test107, predicted_ans3)\n",
        "\n",
        "print('Average precision-recall score: {0:0.2f}'.format(\n",
        "      average_precision))\n",
        "\n",
        "from sklearn.metrics import precision_recall_curve\n",
        "import matplotlib.pyplot as plt\n",
        "\n",
        "precision, recall, _ = precision_recall_curve(y_test107, predicted_ans3)\n",
        "\n",
        "plt.step(recall, precision, color='b', alpha=0.2,\n",
        "         where='post')\n",
        "plt.fill_between(recall, precision, step='post', alpha=0.2,\n",
        "                 color='b')\n",
        "\n",
        "plt.xlabel('Recall')\n",
        "plt.ylabel('Precision')\n",
        "plt.ylim([0.0, 1.05])\n",
        "plt.xlim([0.0, 1.0])\n",
        "plt.title('2-class Precision-Recall curve: AP={0:0.2f}'.format(\n",
        "          average_precision))\n",
        "plt.show()\n",
        "#===================================================================\n",
        "from sklearn import metrics\n",
        "#print(metrics.precision_score(y_test, predicted_ans, average='micro'))\n",
        "#print(metrics.recall_score(y_test, predicted_ans, average='micro'))\n",
        "\n",
        "labels = [1,-1]\n",
        "targets_name = ['Boy','Girl']\n",
        "print(metrics.classification_report(y_test107, predicted_ans3,labels=labels,target_names = targets_name))"
      ],
      "execution_count": 0,
      "outputs": [
        {
          "output_type": "stream",
          "text": [
            "Average precision-recall score: 0.81\n"
          ],
          "name": "stdout"
        },
        {
          "output_type": "display_data",
          "data": {
            "image/png": "[encoded data removed]",
            "text/plain": [
              "<Figure size 576x396 with 1 Axes>"
            ]
          },
          "metadata": {
            "tags": []
          }
        },
        {
          "output_type": "stream",
          "text": [
            "              precision    recall  f1-score   support\n",
            "\n",
            "         Boy       0.81      1.00      0.89        17\n",
            "        Girl       1.00      0.64      0.78        11\n",
            "\n",
            "   micro avg       0.86      0.86      0.86        28\n",
            "   macro avg       0.90      0.82      0.84        28\n",
            "weighted avg       0.88      0.86      0.85        28\n",
            "\n"
          ],
          "name": "stdout"
        }
      ]
    },
    {
      "cell_type": "markdown",
      "metadata": {
        "id": "WFEKom8GOv-g",
        "colab_type": "text"
      },
      "source": [
        "# other algorithm"
      ]
    },
    {
      "cell_type": "markdown",
      "metadata": {
        "id": "5Swh4HhWPnTL",
        "colab_type": "text"
      },
      "source": [
        "# OCSVM"
      ]
    },
    {
      "cell_type": "code",
      "metadata": {
        "id": "0jHn8YBtOpjq",
        "colab_type": "code",
        "colab": {}
      },
      "source": [
        "import numpy as np\n",
        "from sklearn import svm\n",
        "cc=cleaned_df\n",
        "nor_obs = cc.loc[cc.gender==1]    #Data frame with normal observation\n",
        "ano_obs = cc.loc[cc.gender==-1] #Data frame with anomalous observation\n",
        "\n",
        "train_feature = nor_obs\n",
        "\n",
        "zzzz= train_feature.pop('gender')#看不懂為何drop\n",
        "from sklearn import svm\n",
        "oneclass = svm.OneClassSVM(kernel=\"linear\", gamma=0.001, nu=0.95)\n",
        "oneclass.fit(train_feature)\n",
        "\n",
        "s_predicted_ans=oneclass.predict(X_test107)\n"
      ],
      "execution_count": 0,
      "outputs": []
    },
    {
      "cell_type": "markdown",
      "metadata": {
        "id": "xGLxK6c8PmbS",
        "colab_type": "text"
      },
      "source": [
        "# SVM initial"
      ]
    },
    {
      "cell_type": "code",
      "metadata": {
        "id": "vXye0F9xqc8y",
        "colab_type": "code",
        "outputId": "828725c1-bb5a-4986-93c0-343ac6b38e90",
        "colab": {
          "base_uri": "https://localhost:8080/",
          "height": 565
        }
      },
      "source": [
        "\n",
        "#結果圖像化\n",
        "from sklearn.metrics import average_precision_score\n",
        "average_precision = average_precision_score(y_test107, s_predicted_ans)\n",
        "\n",
        "print('Average S_precision-recall score: {0:0.2f}'.format(\n",
        "      average_precision))\n",
        "\n",
        "from sklearn.metrics import precision_recall_curve\n",
        "import matplotlib.pyplot as plt\n",
        "\n",
        "precision, recall, _ = precision_recall_curve(y_test107, s_predicted_ans)\n",
        "\n",
        "plt.step(recall, precision, color='b', alpha=0.2,\n",
        "         where='post')\n",
        "plt.fill_between(recall, precision, step='post', alpha=0.2,\n",
        "                 color='b')\n",
        "\n",
        "plt.xlabel('Recall')\n",
        "plt.ylabel('Precision')\n",
        "plt.ylim([0.0, 1.05])\n",
        "plt.xlim([0.0, 1.0])\n",
        "plt.title('2-class Precision-Recall curve: AP={0:0.2f}'.format(\n",
        "          average_precision))\n",
        "plt.show()\n",
        "#===================================================================\n",
        "from sklearn import metrics\n",
        "#print(metrics.precision_score(y_test, predicted_ans, average='micro'))\n",
        "#print(metrics.recall_score(y_test, predicted_ans, average='micro'))\n",
        "\n",
        "labels = [1,-1]\n",
        "targets_name = ['Boy','Girl']\n",
        "print(metrics.classification_report(y_test107, s_predicted_ans,labels=labels,target_names = targets_name))"
      ],
      "execution_count": 0,
      "outputs": [
        {
          "output_type": "stream",
          "text": [
            "Average S_precision-recall score: 0.63\n"
          ],
          "name": "stdout"
        },
        {
          "output_type": "display_data",
          "data": {
            "image/png": "[encoded data removed]",
            "text/plain": [
              "<Figure size 576x396 with 1 Axes>"
            ]
          },
          "metadata": {
            "tags": []
          }
        },
        {
          "output_type": "stream",
          "text": [
            "              precision    recall  f1-score   support\n",
            "\n",
            "         Boy       1.00      0.06      0.11        17\n",
            "        Girl       0.41      1.00      0.58        11\n",
            "\n",
            "   micro avg       0.43      0.43      0.43        28\n",
            "   macro avg       0.70      0.53      0.35        28\n",
            "weighted avg       0.77      0.43      0.29        28\n",
            "\n"
          ],
          "name": "stdout"
        }
      ]
    },
    {
      "cell_type": "markdown",
      "metadata": {
        "id": "KE2LVq2ohsbr",
        "colab_type": "text"
      },
      "source": [
        "# smote for ocsvm(無法正常執行)\n"
      ]
    },
    {
      "cell_type": "code",
      "metadata": {
        "id": "RTE1aYg6IVCC",
        "colab_type": "code",
        "colab": {}
      },
      "source": [
        "X2 =concat([X2_train, y2_train], axis=1)"
      ],
      "execution_count": 0,
      "outputs": []
    },
    {
      "cell_type": "code",
      "metadata": {
        "id": "SDusXwolin_W",
        "colab_type": "code",
        "colab": {}
      },
      "source": [
        "\n",
        "nor_obs_s = cc_s.loc[cc_s.gender==1]    #Data frame with normal observation\n",
        "ano_obs_s = cc_s.loc[cc_s.gender==-1] #Data frame with anomalous observation\n",
        "\n",
        "train_feature_s = nor_obs_s\n",
        "\n",
        "zzzz= train_feature_s.pop('gender')#看不懂為何drop\n",
        "from sklearn import svm\n",
        "oneclass = svm.OneClassSVM(kernel=\"linear\", gamma=0.001, nu=0.95)\n",
        "oneclass.fit(train_feature_s)\n"
      ],
      "execution_count": 0,
      "outputs": []
    },
    {
      "cell_type": "code",
      "metadata": {
        "id": "IVQg-6FlUois",
        "colab_type": "code",
        "colab": {}
      },
      "source": [
        "\n",
        "#nor_obs2 = cc2.loc[cc2.gender==1]    #Data frame with normal observation\n",
        "#ano_obs2 = cc2.loc[cc2.gender==-1] #Data frame with anomalous observation\n",
        "#sy_1 = nor_obs2.pop('gender')\n",
        "#sy_2 = ano_obs2.pop('gender')\n",
        "#sX_test_1 = nor_obs2\n",
        "#sX_test_2 = ano_obs2\n",
        "#sX_test = sX_test_1.append(sX_test_2)\n",
        "\n",
        "ss_predicted_ans=oneclass.predict(X_test107)\n",
        "#sy_test = sX_test.pop('gender')\n"
      ],
      "execution_count": 0,
      "outputs": []
    },
    {
      "cell_type": "code",
      "metadata": {
        "id": "QC65FMXejEhM",
        "colab_type": "code",
        "colab": {}
      },
      "source": [
        "#結果圖像化\n",
        "from sklearn.metrics import average_precision_score\n",
        "average_precision = average_precision_score(y_test107, ss_predicted_ans)\n",
        "\n",
        "print('Average S_precision-recall score: {0:0.2f}'.format(\n",
        "      average_precision))\n",
        "\n",
        "from sklearn.metrics import precision_recall_curve\n",
        "import matplotlib.pyplot as plt\n",
        "\n",
        "precision, recall, _ = precision_recall_curve(y_test107, ss_predicted_ans)\n",
        "\n",
        "plt.step(recall, precision, color='b', alpha=0.2,\n",
        "         where='post')\n",
        "plt.fill_between(recall, precision, step='post', alpha=0.2,\n",
        "                 color='b')\n",
        "\n",
        "plt.xlabel('Recall')\n",
        "plt.ylabel('Precision')\n",
        "plt.ylim([0.0, 1.05])\n",
        "plt.xlim([0.0, 1.0])\n",
        "plt.title('2-class Precision-Recall curve: AP={0:0.2f}'.format(\n",
        "          average_precision))\n",
        "plt.show()\n",
        "#===================================================================\n",
        "from sklearn import metrics\n",
        "#print(metrics.precision_score(y_test, predicted_ans, average='micro'))\n",
        "#print(metrics.recall_score(y_test, predicted_ans, average='micro'))\n",
        "\n",
        "labels = [1,-1]\n",
        "targets_name = ['Boy','Girl']\n",
        "print(metrics.classification_report(y_test107, ss_predicted_ans,labels=labels,target_names = targets_name))"
      ],
      "execution_count": 0,
      "outputs": []
    },
    {
      "cell_type": "markdown",
      "metadata": {
        "id": "6MaZr2RHlZgL",
        "colab_type": "text"
      },
      "source": [
        "# oversample for svm(執行後結果與原始資料相同)\n"
      ]
    },
    {
      "cell_type": "markdown",
      "metadata": {
        "id": "Yb5cMTaTvy7f",
        "colab_type": "text"
      },
      "source": [
        "可能仍有要修改的地方"
      ]
    },
    {
      "cell_type": "code",
      "metadata": {
        "id": "Ai3ffozBlc2Q",
        "colab_type": "code",
        "colab": {}
      },
      "source": [
        "cc_up=upsample\n",
        "upnor_obs = cc_up.loc[cc_up.gender==1]    #Data frame with normal observation\n",
        "upano_obs = cc_up.loc[cc_up.gender==-1] #Data frame with anomalous observation\n",
        "\n",
        "trainup_feature = upnor_obs\n",
        "\n",
        "zzzz= trainup_feature.pop('gender')#看不懂為何drop\n",
        "from sklearn import svm\n",
        "oneclass2 = svm.OneClassSVM(kernel=\"linear\", gamma=0.001, nu=0.95)\n",
        "oneclass2.fit(trainup_feature)\n",
        "sup_predicted_ans=oneclass2.predict(X_test107)"
      ],
      "execution_count": 0,
      "outputs": []
    },
    {
      "cell_type": "code",
      "metadata": {
        "id": "BJ9aPLR-lc6a",
        "colab_type": "code",
        "outputId": "9b948bf4-2c0b-44ef-ece5-2a26feb09423",
        "colab": {
          "base_uri": "https://localhost:8080/",
          "height": 541
        }
      },
      "source": [
        "#結果圖像化\n",
        "from sklearn.metrics import average_precision_score\n",
        "average_precision = average_precision_score(y_test107, sup_predicted_ans)\n",
        "\n",
        "print('Average S_precision-recall score: {0:0.2f}'.format(\n",
        "      average_precision))\n",
        "\n",
        "from sklearn.metrics import precision_recall_curve\n",
        "import matplotlib.pyplot as plt\n",
        "\n",
        "precision, recall, _ = precision_recall_curve(y_test107, sup_predicted_ans)\n",
        "\n",
        "plt.step(recall, precision, color='b', alpha=0.2,\n",
        "         where='post')\n",
        "plt.fill_between(recall, precision, step='post', alpha=0.2,\n",
        "                 color='b')\n",
        "\n",
        "plt.xlabel('Recall')\n",
        "plt.ylabel('Precision')\n",
        "plt.ylim([0.0, 1.05])\n",
        "plt.xlim([0.0, 1.0])\n",
        "plt.title('2-class Precision-Recall curve: AP={0:0.2f}'.format(\n",
        "          average_precision))\n",
        "plt.show()\n",
        "#===================================================================\n",
        "from sklearn import metrics\n",
        "#print(metrics.precision_score(y_test, predicted_ans, average='micro'))\n",
        "#print(metrics.recall_score(y_test, predicted_ans, average='micro'))\n",
        "\n",
        "labels = [1,-1]\n",
        "targets_name = ['Boy','Girl']\n",
        "print(metrics.classification_report(y_test107, sup_predicted_ans,labels=labels,target_names = targets_name))"
      ],
      "execution_count": 0,
      "outputs": [
        {
          "output_type": "stream",
          "text": [
            "Average S_precision-recall score: 0.63\n"
          ],
          "name": "stdout"
        },
        {
          "output_type": "display_data",
          "data": {
            "image/png": "[encoded data removed]",
            "text/plain": [
              "<Figure size 576x396 with 1 Axes>"
            ]
          },
          "metadata": {
            "tags": []
          }
        },
        {
          "output_type": "stream",
          "text": [
            "              precision    recall  f1-score   support\n",
            "\n",
            "         Boy       1.00      0.06      0.11        17\n",
            "        Girl       0.41      1.00      0.58        11\n",
            "\n",
            "   micro avg       0.43      0.43      0.43        28\n",
            "   macro avg       0.70      0.53      0.35        28\n",
            "weighted avg       0.77      0.43      0.29        28\n",
            "\n"
          ],
          "name": "stdout"
        }
      ]
    },
    {
      "cell_type": "markdown",
      "metadata": {
        "id": "zFwDeVlPIBGT",
        "colab_type": "text"
      },
      "source": [
        "# Randomforest"
      ]
    },
    {
      "cell_type": "code",
      "metadata": {
        "id": "7AhcA4Wgwyaf",
        "colab_type": "code",
        "colab": {}
      },
      "source": [
        "from sklearn.preprocessing import StandardScaler\n",
        "XR_test=X_test107\n",
        "XR2_test=X_test107\n",
        "XR3_test=X_test107\n"
      ],
      "execution_count": 0,
      "outputs": []
    },
    {
      "cell_type": "code",
      "metadata": {
        "id": "lw2U05RdWGCK",
        "colab_type": "code",
        "colab": {}
      },
      "source": [
        "\n",
        "from sklearn.ensemble import RandomForestClassifier\n",
        "from sklearn.datasets import make_classification\n",
        "# 載入資料\n",
        "\n",
        "\n",
        "\n",
        "\n",
        "sc = StandardScaler()  \n",
        "#X_train = sc.fit_transform(X_train)  \n",
        "#XR_test = sc.transform(XR_test)  \n",
        "\n",
        "from sklearn.ensemble import RandomForestClassifier\n",
        "\n",
        "regressor = RandomForestClassifier(n_estimators=120, random_state=2)  \n",
        "regressor.fit(X_train, y_train)  \n",
        "r_predicted_ans = regressor.predict(XR_test)  \n"
      ],
      "execution_count": 0,
      "outputs": []
    },
    {
      "cell_type": "markdown",
      "metadata": {
        "id": "gq_Qf-uip8d9",
        "colab_type": "text"
      },
      "source": [
        "oversample\n"
      ]
    },
    {
      "cell_type": "code",
      "metadata": {
        "id": "GQ9jmP4up-kG",
        "colab_type": "code",
        "colab": {}
      },
      "source": [
        "#sc3 = StandardScaler()  \n",
        "#X3_train = sc3.fit_transform(X3_train)  \n",
        "#XR3_test = sc3.transform(XR3_test)  \n",
        "\n",
        "\n",
        "\n",
        "regressor3 = RandomForestClassifier(n_estimators=120, random_state=2)  \n",
        "regressor3.fit(X3_train, y3_train)  \n",
        "r3_predicted_ans = regressor3.predict(XR3_test)  "
      ],
      "execution_count": 0,
      "outputs": []
    },
    {
      "cell_type": "code",
      "metadata": {
        "id": "aqZ8CM6ZtE0e",
        "colab_type": "code",
        "colab": {}
      },
      "source": [
        "\n",
        "#sc2 = StandardScaler()  \n",
        "#X2_train = sc2.fit_transform(X2_train)  \n",
        "#XR2_test = sc2.transform(XR2_test) \n",
        "\n",
        "from sklearn.ensemble import RandomForestClassifier\n",
        "\n",
        "regressor2 = RandomForestClassifier(n_estimators=120, random_state=2)  \n",
        "regressor2.fit(X2_train, y2_train)  \n",
        "r2_predicted_ans = regressor2.predict(XR2_test)  "
      ],
      "execution_count": 0,
      "outputs": []
    },
    {
      "cell_type": "markdown",
      "metadata": {
        "id": "mHZWRTVKtQI_",
        "colab_type": "text"
      },
      "source": [
        "# inital"
      ]
    },
    {
      "cell_type": "code",
      "metadata": {
        "id": "Cl2vwIARIW0R",
        "colab_type": "code",
        "outputId": "8c46c648-fa79-4514-ae11-c0472753152c",
        "colab": {
          "base_uri": "https://localhost:8080/",
          "height": 565
        }
      },
      "source": [
        "#結果圖像化#inital\n",
        "from sklearn.metrics import average_precision_score\n",
        "average_precision = average_precision_score(y_test107, r_predicted_ans)\n",
        "\n",
        "print('Average precision-recall score: {0:0.2f}'.format(\n",
        "      average_precision))\n",
        "\n",
        "from sklearn.metrics import precision_recall_curve\n",
        "import matplotlib.pyplot as plt\n",
        "\n",
        "precision, recall, _ = precision_recall_curve(y_test107, r_predicted_ans)\n",
        "\n",
        "plt.step(recall, precision, color='b', alpha=0.2,\n",
        "         where='post')\n",
        "plt.fill_between(recall, precision, step='post', alpha=0.2,\n",
        "                 color='b')\n",
        "\n",
        "plt.xlabel('Recall')\n",
        "plt.ylabel('Precision')\n",
        "plt.ylim([0.0, 1.05])\n",
        "plt.xlim([0.0, 1.0])\n",
        "plt.title('2-class Precision-Recall curve: AP={0:0.2f}'.format(\n",
        "          average_precision))\n",
        "plt.show()\n",
        "#===================================================================\n",
        "from sklearn import metrics\n",
        "#print(metrics.precision_score(y_test, predicted_ans, average='micro'))\n",
        "#print(metrics.recall_score(y_test, predicted_ans, average='micro'))\n",
        "\n",
        "labels = [1,-1]\n",
        "targets_name = ['Boy','Girl']\n",
        "print(metrics.classification_report(y_test107, r_predicted_ans,labels=labels,target_names = targets_name))"
      ],
      "execution_count": 0,
      "outputs": [
        {
          "output_type": "stream",
          "text": [
            "Average precision-recall score: 0.81\n"
          ],
          "name": "stdout"
        },
        {
          "output_type": "display_data",
          "data": {
            "image/png": "[encoded data removed]",
            "text/plain": [
              "<Figure size 576x396 with 1 Axes>"
            ]
          },
          "metadata": {
            "tags": []
          }
        },
        {
          "output_type": "stream",
          "text": [
            "              precision    recall  f1-score   support\n",
            "\n",
            "         Boy       0.81      1.00      0.89        17\n",
            "        Girl       1.00      0.64      0.78        11\n",
            "\n",
            "   micro avg       0.86      0.86      0.86        28\n",
            "   macro avg       0.90      0.82      0.84        28\n",
            "weighted avg       0.88      0.86      0.85        28\n",
            "\n"
          ],
          "name": "stdout"
        }
      ]
    },
    {
      "cell_type": "markdown",
      "metadata": {
        "id": "MezwvFHQtO5-",
        "colab_type": "text"
      },
      "source": [
        "# oversample\n"
      ]
    },
    {
      "cell_type": "code",
      "metadata": {
        "id": "OBjjq4Iinjmf",
        "colab_type": "code",
        "outputId": "efc522de-589b-4d0e-8d31-c1e2b0e26048",
        "colab": {
          "base_uri": "https://localhost:8080/",
          "height": 565
        }
      },
      "source": [
        "#結果圖像化\n",
        "from sklearn.metrics import average_precision_score\n",
        "average_precision = average_precision_score(y_test107, r3_predicted_ans)\n",
        "\n",
        "print('Average precision-recall score: {0:0.2f}'.format(\n",
        "      average_precision))\n",
        "\n",
        "from sklearn.metrics import precision_recall_curve\n",
        "import matplotlib.pyplot as plt\n",
        "\n",
        "precision, recall, _ = precision_recall_curve(y_test107, r3_predicted_ans)\n",
        "\n",
        "plt.step(recall, precision, color='b', alpha=0.2,\n",
        "         where='post')\n",
        "plt.fill_between(recall, precision, step='post', alpha=0.2,\n",
        "                 color='b')\n",
        "\n",
        "plt.xlabel('Recall')\n",
        "plt.ylabel('Precision')\n",
        "plt.ylim([0.0, 1.05])\n",
        "plt.xlim([0.0, 1.0])\n",
        "plt.title('2-class Precision-Recall curve: AP={0:0.2f}'.format(\n",
        "          average_precision))\n",
        "plt.show()\n",
        "#===================================================================\n",
        "from sklearn import metrics\n",
        "\n",
        "labels = [1,-1]\n",
        "targets_name = ['Boy','Girl']\n",
        "print(metrics.classification_report(y_test107, r3_predicted_ans,labels=labels,target_names = targets_name))"
      ],
      "execution_count": 0,
      "outputs": [
        {
          "output_type": "stream",
          "text": [
            "Average precision-recall score: 0.85\n"
          ],
          "name": "stdout"
        },
        {
          "output_type": "display_data",
          "data": {
            "image/png": "[encoded data removed]",
            "text/plain": [
              "<Figure size 576x396 with 1 Axes>"
            ]
          },
          "metadata": {
            "tags": []
          }
        },
        {
          "output_type": "stream",
          "text": [
            "              precision    recall  f1-score   support\n",
            "\n",
            "         Boy       0.85      1.00      0.92        17\n",
            "        Girl       1.00      0.73      0.84        11\n",
            "\n",
            "   micro avg       0.89      0.89      0.89        28\n",
            "   macro avg       0.93      0.86      0.88        28\n",
            "weighted avg       0.91      0.89      0.89        28\n",
            "\n"
          ],
          "name": "stdout"
        }
      ]
    },
    {
      "cell_type": "markdown",
      "metadata": {
        "id": "T6x6ZxqbonhH",
        "colab_type": "text"
      },
      "source": [
        "# SMOE"
      ]
    },
    {
      "cell_type": "code",
      "metadata": {
        "id": "9lvO_uSPo1p2",
        "colab_type": "code",
        "outputId": "5867de46-82d7-4db6-94c3-913c7c179717",
        "colab": {
          "base_uri": "https://localhost:8080/",
          "height": 565
        }
      },
      "source": [
        "#結果圖像化\n",
        "from sklearn.metrics import average_precision_score\n",
        "average_precision = average_precision_score(y_test107, r2_predicted_ans)\n",
        "\n",
        "print('Average precision-recall score: {0:0.2f}'.format(\n",
        "      average_precision))\n",
        "\n",
        "from sklearn.metrics import precision_recall_curve\n",
        "import matplotlib.pyplot as plt\n",
        "\n",
        "precision, recall, _ = precision_recall_curve(y_test107, r2_predicted_ans)\n",
        "\n",
        "plt.step(recall, precision, color='b', alpha=0.2,\n",
        "         where='post')\n",
        "plt.fill_between(recall, precision, step='post', alpha=0.2,\n",
        "                 color='b')\n",
        "\n",
        "plt.xlabel('Recall')\n",
        "plt.ylabel('Precision')\n",
        "plt.ylim([0.0, 1.05])\n",
        "plt.xlim([0.0, 1.0])\n",
        "plt.title('2-class Precision-Recall curve: AP={0:0.2f}'.format(\n",
        "          average_precision))\n",
        "plt.show()\n",
        "#===================================================================\n",
        "from sklearn import metrics\n",
        "#print(metrics.precision_score(y_test, predicted_ans, average='micro'))\n",
        "#print(metrics.recall_score(y_test, predicted_ans, average='micro'))\n",
        "\n",
        "labels = [1,-1]\n",
        "targets_name = ['Boy','Girl']\n",
        "print(metrics.classification_report(y_test107, r2_predicted_ans,labels=labels,target_names = targets_name))"
      ],
      "execution_count": 0,
      "outputs": [
        {
          "output_type": "stream",
          "text": [
            "Average precision-recall score: 0.83\n"
          ],
          "name": "stdout"
        },
        {
          "output_type": "display_data",
          "data": {
            "image/png": "[encoded data removed]",
            "text/plain": [
              "<Figure size 576x396 with 1 Axes>"
            ]
          },
          "metadata": {
            "tags": []
          }
        },
        {
          "output_type": "stream",
          "text": [
            "              precision    recall  f1-score   support\n",
            "\n",
            "         Boy       0.84      0.94      0.89        17\n",
            "        Girl       0.89      0.73      0.80        11\n",
            "\n",
            "   micro avg       0.86      0.86      0.86        28\n",
            "   macro avg       0.87      0.83      0.84        28\n",
            "weighted avg       0.86      0.86      0.85        28\n",
            "\n"
          ],
          "name": "stdout"
        }
      ]
    }
  ]
}